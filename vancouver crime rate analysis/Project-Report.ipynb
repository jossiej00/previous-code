{
 "cells": [
  {
   "cell_type": "markdown",
   "metadata": {
    "nbgrader": {
     "grade": false,
     "grade_id": "cell-0a3a16e4560c3222",
     "locked": true,
     "schema_version": 3,
     "solution": false,
     "task": false
    }
   },
   "source": [
    "# STAT 201 Project Report: Analyzing Vancouver Bike Theft Before and After the COVID-19 Pandemic"
   ]
  },
  {
   "cell_type": "markdown",
   "metadata": {},
   "source": [
    "**Group 15: Jossie Jiang and Rachel Lee**"
   ]
  },
  {
   "cell_type": "code",
   "execution_count": 5,
   "metadata": {},
   "outputs": [
    {
     "name": "stderr",
     "output_type": "stream",
     "text": [
      "Warning message in install.packages(inferURL, repos = NULL, type = \"source\"):\n",
      "\"installation of package 'C:/Users/rache/AppData/Local/Temp/Rtmpqcnek4/downloaded_packages/infer_0.5.3.tar.gz' had non-zero exit status\""
     ]
    }
   ],
   "source": [
    "set.seed(8888)\n",
    "inferURL <- \"https://cran.r-project.org/src/contrib/Archive/infer/infer_0.5.3.tar.gz\"\n",
    "\n",
    "install.packages(inferURL, repos=NULL, type=\"source\")"
   ]
  },
  {
   "cell_type": "markdown",
   "metadata": {},
   "source": [
    "# Introduction\n",
    "\n",
    "## Research question:\n",
    "Is the proportion of bike theft crime different in Kitsilano between before COVID-19 pandemic (from 2016 to 2018) and had this changed after it (from 2019 to 2021)?\n",
    "\n",
    "Random Variable: The proportion of bike theft over all the crimes that happened in Kitsilano\n",
    "\n",
    "Category Variable1: Bike theft v.s. other crime types\n",
    "\n",
    "Category Variable2: three years before pandemic (2016-2018) v.s. three years after pandemic (2019-2021)\n",
    "\n",
    "## Dataset:\n",
    "The dataset we will be using is the Vancouver crime dataset provided by: https://geodash.vpd.ca/opendata/ . It contains the years, classifications, times, and locations of various crimes that have occurred in Vancouver starting from 2003 up to the present date. At the time this project was completed, there were 801,197 observations.\n",
    "\n",
    "We will specifically be looking at the TYPE (indicates the type of crime), YEAR (indicates the year the crime occured), and NEIGHBOURHOOD (indicates the neighbourhood the crime occured in) variables. The dataset also includes the month/day/hour/minute of the crime, the hundred block where the crime haappened, and geographic x and y coordinates, although we will not be examining these variables since they aren't relevant in our analysis.\n",
    "\n",
    "## Background:\n",
    "Crime rates in Vancouver are constantly fluctuating. The COVID-19 pandemic in particular has drastically affected crime rates in the city of Vancouver. Local police recorded a 21.7% rise in serious assaults in the first half of 2020 (1). Since most businesses closed and were left unattended, break-ins to commercial buildings increased by 47.9% (1). As restrictions loosened in late 2020, breaking and entering crimes began to subside, as well as domestic assault (2). From this, it seems that general crimes across the city peaked during the COVID-19 lockdown period and are decreasing as everything returns back to normal.\n",
    "\n",
    "The city of Vancouver is known for it's numerous cycling trails as a convenient mode of transportation or a fun recreational activity. Vancouverites enjoy frequent biking no matter what the weather, so there are usually lots of bikes around. This provides plenty of opportunity for thieves to strike, especially as bike sales rapidly escalated during the pandemic (5). In fact, Vancouver has the most bike thefts per capita compared to other major Canadian cities (3). In 2020 alone, 334 bicycles were stolen for every 100,000 people (3). \n",
    "\n",
    "Police often investigate larger cases of bike theft, especially if expensive bikes were stolen, like high-end road bikes, mountain bikes, or e-bikes. Most recently (July 2021), Vancouver police recovered $45,000 in stolen bikes, so bike theft is still a relevant issue (4). This project seeks to determine if there is a difference in the proportion of bikes stolen in the city of Vancouver before and during the coronavirus pandemic. Take note that we will be considering \"during the pandemic\" as thefts from 2019 to the present, and \"before the pandemic\" as thefts from 2016 to 2018."
   ]
  },
  {
   "cell_type": "markdown",
   "metadata": {},
   "source": [
    "# Reading Data"
   ]
  },
  {
   "cell_type": "markdown",
   "metadata": {},
   "source": [
    "Here we are loading libraries we will use throught our report, as well as reading our dataset into R."
   ]
  },
  {
   "cell_type": "code",
   "execution_count": 6,
   "metadata": {},
   "outputs": [
    {
     "ename": "ERROR",
     "evalue": "Error in library(readr): there is no package called 'readr'\n",
     "output_type": "error",
     "traceback": [
      "Error in library(readr): there is no package called 'readr'\nTraceback:\n",
      "1. library(readr)"
     ]
    }
   ],
   "source": [
    "library(readr)\n",
    "library(tidyverse)\n",
    "library(repr)\n",
    "library(digest)\n",
    "library(ggplot2)\n",
    "library(cowplot)\n",
    "library(infer)\n",
    "library(broom)\n",
    "\n",
    "myurl <- \"https://raw.githubusercontent.com/NicTavares/VancouverCrimeStats/master/crimedata_csv_all_years.csv\"\n",
    "\n",
    "crime_data<-read_csv(url(myurl))\n",
    "head(crime_data)"
   ]
  },
  {
   "cell_type": "markdown",
   "metadata": {},
   "source": [
    "# Cleaning the Data"
   ]
  },
  {
   "cell_type": "markdown",
   "metadata": {},
   "source": [
    "Here we selected variables that are relevant to our analysis and ensured that each observation we use holds some value. We also created a new variable called \"period\" that categorizes an observation as 'after pandemic' (2019-2021) or 'before pandemic' (2016-2018) based on it's year. Additionally, we added the variables \"all_crimes_number\" and \"bike_theft_number\", which represent the total amount of crimes occured in a year and the total amount of bike thefts in a year respectively. Finally, we calculated the proportion of crimes that are bike thefts (bike crimes/total crimes) for each year, which is under the \"prop\" variable."
   ]
  },
  {
   "cell_type": "code",
   "execution_count": 233,
   "metadata": {},
   "outputs": [
    {
     "data": {
      "text/html": [
       "<table>\n",
       "<caption>A tibble: 6 × 4</caption>\n",
       "<thead>\n",
       "\t<tr><th scope=col>type</th><th scope=col>year</th><th scope=col>neighbourhood</th><th scope=col>period</th></tr>\n",
       "\t<tr><th scope=col>&lt;chr&gt;</th><th scope=col>&lt;dbl&gt;</th><th scope=col>&lt;chr&gt;</th><th scope=col>&lt;chr&gt;</th></tr>\n",
       "</thead>\n",
       "<tbody>\n",
       "\t<tr><td>Theft from Vehicle</td><td>2020</td><td>Kitsilano</td><td>after pandemic </td></tr>\n",
       "\t<tr><td>Theft from Vehicle</td><td>2020</td><td>Kitsilano</td><td>after pandemic </td></tr>\n",
       "\t<tr><td>Theft from Vehicle</td><td>2020</td><td>Kitsilano</td><td>after pandemic </td></tr>\n",
       "\t<tr><td>Theft from Vehicle</td><td>2021</td><td>Kitsilano</td><td>after pandemic </td></tr>\n",
       "\t<tr><td>Theft from Vehicle</td><td>2018</td><td>Kitsilano</td><td>before pandemic</td></tr>\n",
       "\t<tr><td>Theft from Vehicle</td><td>2017</td><td>Kitsilano</td><td>before pandemic</td></tr>\n",
       "</tbody>\n",
       "</table>\n"
      ],
      "text/latex": [
       "A tibble: 6 × 4\n",
       "\\begin{tabular}{llll}\n",
       " type & year & neighbourhood & period\\\\\n",
       " <chr> & <dbl> & <chr> & <chr>\\\\\n",
       "\\hline\n",
       "\t Theft from Vehicle & 2020 & Kitsilano & after pandemic \\\\\n",
       "\t Theft from Vehicle & 2020 & Kitsilano & after pandemic \\\\\n",
       "\t Theft from Vehicle & 2020 & Kitsilano & after pandemic \\\\\n",
       "\t Theft from Vehicle & 2021 & Kitsilano & after pandemic \\\\\n",
       "\t Theft from Vehicle & 2018 & Kitsilano & before pandemic\\\\\n",
       "\t Theft from Vehicle & 2017 & Kitsilano & before pandemic\\\\\n",
       "\\end{tabular}\n"
      ],
      "text/markdown": [
       "\n",
       "A tibble: 6 × 4\n",
       "\n",
       "| type &lt;chr&gt; | year &lt;dbl&gt; | neighbourhood &lt;chr&gt; | period &lt;chr&gt; |\n",
       "|---|---|---|---|\n",
       "| Theft from Vehicle | 2020 | Kitsilano | after pandemic  |\n",
       "| Theft from Vehicle | 2020 | Kitsilano | after pandemic  |\n",
       "| Theft from Vehicle | 2020 | Kitsilano | after pandemic  |\n",
       "| Theft from Vehicle | 2021 | Kitsilano | after pandemic  |\n",
       "| Theft from Vehicle | 2018 | Kitsilano | before pandemic |\n",
       "| Theft from Vehicle | 2017 | Kitsilano | before pandemic |\n",
       "\n"
      ],
      "text/plain": [
       "  type               year neighbourhood period         \n",
       "1 Theft from Vehicle 2020 Kitsilano     after pandemic \n",
       "2 Theft from Vehicle 2020 Kitsilano     after pandemic \n",
       "3 Theft from Vehicle 2020 Kitsilano     after pandemic \n",
       "4 Theft from Vehicle 2021 Kitsilano     after pandemic \n",
       "5 Theft from Vehicle 2018 Kitsilano     before pandemic\n",
       "6 Theft from Vehicle 2017 Kitsilano     before pandemic"
      ]
     },
     "metadata": {},
     "output_type": "display_data"
    },
    {
     "data": {
      "text/html": [
       "<table>\n",
       "<caption>A grouped_df: 6 × 7</caption>\n",
       "<thead>\n",
       "\t<tr><th scope=col>type</th><th scope=col>year</th><th scope=col>neighbourhood</th><th scope=col>period</th><th scope=col>all_crimes_number</th><th scope=col>bike_theft_number</th><th scope=col>prop</th></tr>\n",
       "\t<tr><th scope=col>&lt;chr&gt;</th><th scope=col>&lt;dbl&gt;</th><th scope=col>&lt;chr&gt;</th><th scope=col>&lt;chr&gt;</th><th scope=col>&lt;int&gt;</th><th scope=col>&lt;int&gt;</th><th scope=col>&lt;dbl&gt;</th></tr>\n",
       "</thead>\n",
       "<tbody>\n",
       "\t<tr><td>Theft of Bicycle</td><td>2016</td><td>Kitsilano</td><td>before pandemic</td><td>2060</td><td>193</td><td>0.09368932</td></tr>\n",
       "\t<tr><td>Theft of Bicycle</td><td>2019</td><td>Kitsilano</td><td>after pandemic </td><td>1911</td><td>162</td><td>0.08477237</td></tr>\n",
       "\t<tr><td>Theft of Bicycle</td><td>2019</td><td>Kitsilano</td><td>after pandemic </td><td>1911</td><td>162</td><td>0.08477237</td></tr>\n",
       "\t<tr><td>Theft of Bicycle</td><td>2020</td><td>Kitsilano</td><td>after pandemic </td><td>1793</td><td>220</td><td>0.12269939</td></tr>\n",
       "\t<tr><td>Theft of Bicycle</td><td>2017</td><td>Kitsilano</td><td>before pandemic</td><td>1870</td><td>205</td><td>0.10962567</td></tr>\n",
       "\t<tr><td>Theft of Bicycle</td><td>2019</td><td>Kitsilano</td><td>after pandemic </td><td>1911</td><td>162</td><td>0.08477237</td></tr>\n",
       "</tbody>\n",
       "</table>\n"
      ],
      "text/latex": [
       "A grouped\\_df: 6 × 7\n",
       "\\begin{tabular}{lllllll}\n",
       " type & year & neighbourhood & period & all\\_crimes\\_number & bike\\_theft\\_number & prop\\\\\n",
       " <chr> & <dbl> & <chr> & <chr> & <int> & <int> & <dbl>\\\\\n",
       "\\hline\n",
       "\t Theft of Bicycle & 2016 & Kitsilano & before pandemic & 2060 & 193 & 0.09368932\\\\\n",
       "\t Theft of Bicycle & 2019 & Kitsilano & after pandemic  & 1911 & 162 & 0.08477237\\\\\n",
       "\t Theft of Bicycle & 2019 & Kitsilano & after pandemic  & 1911 & 162 & 0.08477237\\\\\n",
       "\t Theft of Bicycle & 2020 & Kitsilano & after pandemic  & 1793 & 220 & 0.12269939\\\\\n",
       "\t Theft of Bicycle & 2017 & Kitsilano & before pandemic & 1870 & 205 & 0.10962567\\\\\n",
       "\t Theft of Bicycle & 2019 & Kitsilano & after pandemic  & 1911 & 162 & 0.08477237\\\\\n",
       "\\end{tabular}\n"
      ],
      "text/markdown": [
       "\n",
       "A grouped_df: 6 × 7\n",
       "\n",
       "| type &lt;chr&gt; | year &lt;dbl&gt; | neighbourhood &lt;chr&gt; | period &lt;chr&gt; | all_crimes_number &lt;int&gt; | bike_theft_number &lt;int&gt; | prop &lt;dbl&gt; |\n",
       "|---|---|---|---|---|---|---|\n",
       "| Theft of Bicycle | 2016 | Kitsilano | before pandemic | 2060 | 193 | 0.09368932 |\n",
       "| Theft of Bicycle | 2019 | Kitsilano | after pandemic  | 1911 | 162 | 0.08477237 |\n",
       "| Theft of Bicycle | 2019 | Kitsilano | after pandemic  | 1911 | 162 | 0.08477237 |\n",
       "| Theft of Bicycle | 2020 | Kitsilano | after pandemic  | 1793 | 220 | 0.12269939 |\n",
       "| Theft of Bicycle | 2017 | Kitsilano | before pandemic | 1870 | 205 | 0.10962567 |\n",
       "| Theft of Bicycle | 2019 | Kitsilano | after pandemic  | 1911 | 162 | 0.08477237 |\n",
       "\n"
      ],
      "text/plain": [
       "  type             year neighbourhood period          all_crimes_number\n",
       "1 Theft of Bicycle 2016 Kitsilano     before pandemic 2060             \n",
       "2 Theft of Bicycle 2019 Kitsilano     after pandemic  1911             \n",
       "3 Theft of Bicycle 2019 Kitsilano     after pandemic  1911             \n",
       "4 Theft of Bicycle 2020 Kitsilano     after pandemic  1793             \n",
       "5 Theft of Bicycle 2017 Kitsilano     before pandemic 1870             \n",
       "6 Theft of Bicycle 2019 Kitsilano     after pandemic  1911             \n",
       "  bike_theft_number prop      \n",
       "1 193               0.09368932\n",
       "2 162               0.08477237\n",
       "3 162               0.08477237\n",
       "4 220               0.12269939\n",
       "5 205               0.10962567\n",
       "6 162               0.08477237"
      ]
     },
     "metadata": {},
     "output_type": "display_data"
    }
   ],
   "source": [
    "crime_data_clean <- subset(crime_data, select = c(TYPE, YEAR, NEIGHBOURHOOD)) %>%\n",
    "    filter(!is.na(TYPE)) %>%\n",
    "    filter(!is.na(YEAR)) %>%\n",
    "    filter(!is.na(NEIGHBOURHOOD)) %>%\n",
    "    filter(NEIGHBOURHOOD == 'Kitsilano' & YEAR >= 2016) %>%\n",
    "    mutate(PERIOD = if_else(YEAR > 2018, 'after pandemic', 'before pandemic'))\n",
    "\n",
    "colnames(crime_data_clean) <- c('type', 'year', 'neighbourhood', 'period')\n",
    "\n",
    "theft_data_clean <- crime_data_clean %>%\n",
    "    group_by(year) %>%\n",
    "    mutate(all_crimes_number = n()) %>%\n",
    "    filter(type == 'Theft of Bicycle') %>%\n",
    "    group_by(type, year) %>%\n",
    "    mutate(bike_theft_number = n()) %>%\n",
    "    mutate(prop = bike_theft_number/all_crimes_number)\n",
    "\n",
    "head(crime_data_clean)\n",
    "head(theft_data_clean)"
   ]
  },
  {
   "cell_type": "markdown",
   "metadata": {},
   "source": [
    "# Basic Plots"
   ]
  },
  {
   "cell_type": "code",
   "execution_count": 313,
   "metadata": {
    "scrolled": false
   },
   "outputs": [
    {
     "data": {
      "image/png": "[encoded data removed]",
      "text/plain": [
       "plot without title"
      ]
     },
     "metadata": {
      "image/png": {
       "height": 300,
       "width": 780
      }
     },
     "output_type": "display_data"
    }
   ],
   "source": [
    "# plotting the number of bike theft from 2016 to 2021\n",
    "theft_number_plot <- ggplot(data = theft_data_clean, aes(x = year, y= bike_theft_number, group=1)) +\n",
    "    geom_line() +\n",
    "    geom_point(aes(color = factor(period)), size = 5 ) + \n",
    "    geom_text(aes(label = bike_theft_number),hjust=-0.2, vjust=0) + \n",
    "    ggtitle('The number of bike theft') +\n",
    "    labs(x = \"year\", y = \"the number of all bike theft\") +\n",
    "    theme_linedraw()\n",
    "options(repr.plot.width = 13, repr.plot.height = 5)\n",
    "\n",
    "theft_prop_plot <- ggplot(data = theft_data_clean, aes(x = year, y= prop, group=1)) +\n",
    "    geom_line() +\n",
    "    geom_point(aes(color = factor(period)), size = 5 ) + \n",
    "    geom_text(aes(label = prop %>% round(4)),hjust=-0.2, vjust=0) + \n",
    "    ggtitle('The proportion of bike theft over all the crimes') +\n",
    "    labs(x = \"year\", y = \"the number of all bike theft\") +\n",
    "    theme_linedraw()\n",
    "\n",
    "options(repr.plot.width = 13, repr.plot.height = 5)\n",
    "\n",
    "title <- ggdraw() + \n",
    "  draw_label(\n",
    "    \"Plots about Bike Theft happened in Kitsilano (2016-2021)\",\n",
    "    fontface = 'bold',\n",
    "    x = 0,\n",
    "    hjust = 0\n",
    "  ) +\n",
    "  theme(\n",
    "    plot.margin = margin(0, 0, 0, 7)\n",
    "  )\n",
    "\n",
    "plot_row <- plot_grid(theft_number_plot, theft_prop_plot, labels = c('plot1', 'plot2'), label_x = 0, label_y = 0,\n",
    "  hjust = -0.5, vjust = -0.5)\n",
    "plot_grid(\n",
    "  title, plot_row,\n",
    "  ncol = 1,\n",
    "  rel_heights = c(0.1, 1)\n",
    ")"
   ]
  },
  {
   "cell_type": "markdown",
   "metadata": {},
   "source": [
    "We used the above line graphs to show the number of bike thefts per year (plot1) as well as the proportion of bike thefts per year (plot2). Both plots are colour coordinated to show whether the statistic was calculated before (turquoise) or after/during (coral) the pandemic. Note that here we are using our population data.\n",
    "\n",
    "From these graphs we can roughly see that the number of bike thefts and the proportion of bike thefts over all crimes in the Kitsilano neighbourhood have a positive trend."
   ]
  },
  {
   "cell_type": "markdown",
   "metadata": {},
   "source": [
    "# Sampling"
   ]
  },
  {
   "cell_type": "markdown",
   "metadata": {},
   "source": [
    "Here we will be taking 500 samples of size 500 for our data both before and after the pandemic. We are sampling without replacement, these samples are taken from the population. We also take an extra precaution here to make sure that all observations in the sample are bike thefts and not any other type of theft."
   ]
  },
  {
   "cell_type": "code",
   "execution_count": 235,
   "metadata": {},
   "outputs": [
    {
     "data": {
      "text/html": [
       "<table>\n",
       "<caption>A grouped_df: 6 × 6</caption>\n",
       "<thead>\n",
       "\t<tr><th scope=col>replicate</th><th scope=col>type</th><th scope=col>neighbourhood</th><th scope=col>period</th><th scope=col>bike_theft_number</th><th scope=col>prop</th></tr>\n",
       "\t<tr><th scope=col>&lt;int&gt;</th><th scope=col>&lt;chr&gt;</th><th scope=col>&lt;chr&gt;</th><th scope=col>&lt;chr&gt;</th><th scope=col>&lt;int&gt;</th><th scope=col>&lt;dbl&gt;</th></tr>\n",
       "</thead>\n",
       "<tbody>\n",
       "\t<tr><td>1</td><td>Theft of Bicycle</td><td>Kitsilano</td><td>before pandemic</td><td>42</td><td>0.084</td></tr>\n",
       "\t<tr><td>2</td><td>Theft of Bicycle</td><td>Kitsilano</td><td>before pandemic</td><td>53</td><td>0.106</td></tr>\n",
       "\t<tr><td>3</td><td>Theft of Bicycle</td><td>Kitsilano</td><td>before pandemic</td><td>43</td><td>0.086</td></tr>\n",
       "\t<tr><td>4</td><td>Theft of Bicycle</td><td>Kitsilano</td><td>before pandemic</td><td>48</td><td>0.096</td></tr>\n",
       "\t<tr><td>5</td><td>Theft of Bicycle</td><td>Kitsilano</td><td>before pandemic</td><td>45</td><td>0.090</td></tr>\n",
       "\t<tr><td>6</td><td>Theft of Bicycle</td><td>Kitsilano</td><td>before pandemic</td><td>56</td><td>0.112</td></tr>\n",
       "</tbody>\n",
       "</table>\n"
      ],
      "text/latex": [
       "A grouped\\_df: 6 × 6\n",
       "\\begin{tabular}{llllll}\n",
       " replicate & type & neighbourhood & period & bike\\_theft\\_number & prop\\\\\n",
       " <int> & <chr> & <chr> & <chr> & <int> & <dbl>\\\\\n",
       "\\hline\n",
       "\t 1 & Theft of Bicycle & Kitsilano & before pandemic & 42 & 0.084\\\\\n",
       "\t 2 & Theft of Bicycle & Kitsilano & before pandemic & 53 & 0.106\\\\\n",
       "\t 3 & Theft of Bicycle & Kitsilano & before pandemic & 43 & 0.086\\\\\n",
       "\t 4 & Theft of Bicycle & Kitsilano & before pandemic & 48 & 0.096\\\\\n",
       "\t 5 & Theft of Bicycle & Kitsilano & before pandemic & 45 & 0.090\\\\\n",
       "\t 6 & Theft of Bicycle & Kitsilano & before pandemic & 56 & 0.112\\\\\n",
       "\\end{tabular}\n"
      ],
      "text/markdown": [
       "\n",
       "A grouped_df: 6 × 6\n",
       "\n",
       "| replicate &lt;int&gt; | type &lt;chr&gt; | neighbourhood &lt;chr&gt; | period &lt;chr&gt; | bike_theft_number &lt;int&gt; | prop &lt;dbl&gt; |\n",
       "|---|---|---|---|---|---|\n",
       "| 1 | Theft of Bicycle | Kitsilano | before pandemic | 42 | 0.084 |\n",
       "| 2 | Theft of Bicycle | Kitsilano | before pandemic | 53 | 0.106 |\n",
       "| 3 | Theft of Bicycle | Kitsilano | before pandemic | 43 | 0.086 |\n",
       "| 4 | Theft of Bicycle | Kitsilano | before pandemic | 48 | 0.096 |\n",
       "| 5 | Theft of Bicycle | Kitsilano | before pandemic | 45 | 0.090 |\n",
       "| 6 | Theft of Bicycle | Kitsilano | before pandemic | 56 | 0.112 |\n",
       "\n"
      ],
      "text/plain": [
       "  replicate type             neighbourhood period          bike_theft_number\n",
       "1 1         Theft of Bicycle Kitsilano     before pandemic 42               \n",
       "2 2         Theft of Bicycle Kitsilano     before pandemic 53               \n",
       "3 3         Theft of Bicycle Kitsilano     before pandemic 43               \n",
       "4 4         Theft of Bicycle Kitsilano     before pandemic 48               \n",
       "5 5         Theft of Bicycle Kitsilano     before pandemic 45               \n",
       "6 6         Theft of Bicycle Kitsilano     before pandemic 56               \n",
       "  prop \n",
       "1 0.084\n",
       "2 0.106\n",
       "3 0.086\n",
       "4 0.096\n",
       "5 0.090\n",
       "6 0.112"
      ]
     },
     "metadata": {},
     "output_type": "display_data"
    },
    {
     "data": {
      "text/html": [
       "<table>\n",
       "<caption>A grouped_df: 6 × 6</caption>\n",
       "<thead>\n",
       "\t<tr><th scope=col>replicate</th><th scope=col>type</th><th scope=col>neighbourhood</th><th scope=col>period</th><th scope=col>bike_theft_number</th><th scope=col>prop</th></tr>\n",
       "\t<tr><th scope=col>&lt;int&gt;</th><th scope=col>&lt;chr&gt;</th><th scope=col>&lt;chr&gt;</th><th scope=col>&lt;chr&gt;</th><th scope=col>&lt;int&gt;</th><th scope=col>&lt;dbl&gt;</th></tr>\n",
       "</thead>\n",
       "<tbody>\n",
       "\t<tr><td>1</td><td>Theft of Bicycle</td><td>Kitsilano</td><td>after pandemic</td><td>64</td><td>0.128</td></tr>\n",
       "\t<tr><td>2</td><td>Theft of Bicycle</td><td>Kitsilano</td><td>after pandemic</td><td>55</td><td>0.110</td></tr>\n",
       "\t<tr><td>3</td><td>Theft of Bicycle</td><td>Kitsilano</td><td>after pandemic</td><td>60</td><td>0.120</td></tr>\n",
       "\t<tr><td>4</td><td>Theft of Bicycle</td><td>Kitsilano</td><td>after pandemic</td><td>55</td><td>0.110</td></tr>\n",
       "\t<tr><td>5</td><td>Theft of Bicycle</td><td>Kitsilano</td><td>after pandemic</td><td>44</td><td>0.088</td></tr>\n",
       "\t<tr><td>6</td><td>Theft of Bicycle</td><td>Kitsilano</td><td>after pandemic</td><td>56</td><td>0.112</td></tr>\n",
       "</tbody>\n",
       "</table>\n"
      ],
      "text/latex": [
       "A grouped\\_df: 6 × 6\n",
       "\\begin{tabular}{llllll}\n",
       " replicate & type & neighbourhood & period & bike\\_theft\\_number & prop\\\\\n",
       " <int> & <chr> & <chr> & <chr> & <int> & <dbl>\\\\\n",
       "\\hline\n",
       "\t 1 & Theft of Bicycle & Kitsilano & after pandemic & 64 & 0.128\\\\\n",
       "\t 2 & Theft of Bicycle & Kitsilano & after pandemic & 55 & 0.110\\\\\n",
       "\t 3 & Theft of Bicycle & Kitsilano & after pandemic & 60 & 0.120\\\\\n",
       "\t 4 & Theft of Bicycle & Kitsilano & after pandemic & 55 & 0.110\\\\\n",
       "\t 5 & Theft of Bicycle & Kitsilano & after pandemic & 44 & 0.088\\\\\n",
       "\t 6 & Theft of Bicycle & Kitsilano & after pandemic & 56 & 0.112\\\\\n",
       "\\end{tabular}\n"
      ],
      "text/markdown": [
       "\n",
       "A grouped_df: 6 × 6\n",
       "\n",
       "| replicate &lt;int&gt; | type &lt;chr&gt; | neighbourhood &lt;chr&gt; | period &lt;chr&gt; | bike_theft_number &lt;int&gt; | prop &lt;dbl&gt; |\n",
       "|---|---|---|---|---|---|\n",
       "| 1 | Theft of Bicycle | Kitsilano | after pandemic | 64 | 0.128 |\n",
       "| 2 | Theft of Bicycle | Kitsilano | after pandemic | 55 | 0.110 |\n",
       "| 3 | Theft of Bicycle | Kitsilano | after pandemic | 60 | 0.120 |\n",
       "| 4 | Theft of Bicycle | Kitsilano | after pandemic | 55 | 0.110 |\n",
       "| 5 | Theft of Bicycle | Kitsilano | after pandemic | 44 | 0.088 |\n",
       "| 6 | Theft of Bicycle | Kitsilano | after pandemic | 56 | 0.112 |\n",
       "\n"
      ],
      "text/plain": [
       "  replicate type             neighbourhood period         bike_theft_number\n",
       "1 1         Theft of Bicycle Kitsilano     after pandemic 64               \n",
       "2 2         Theft of Bicycle Kitsilano     after pandemic 55               \n",
       "3 3         Theft of Bicycle Kitsilano     after pandemic 60               \n",
       "4 4         Theft of Bicycle Kitsilano     after pandemic 55               \n",
       "5 5         Theft of Bicycle Kitsilano     after pandemic 44               \n",
       "6 6         Theft of Bicycle Kitsilano     after pandemic 56               \n",
       "  prop \n",
       "1 0.128\n",
       "2 0.110\n",
       "3 0.120\n",
       "4 0.110\n",
       "5 0.088\n",
       "6 0.112"
      ]
     },
     "metadata": {},
     "output_type": "display_data"
    }
   ],
   "source": [
    "set.seed(88)\n",
    "\n",
    "before_pandemic <- crime_data_clean %>%\n",
    "    filter(period == 'before pandemic') %>%\n",
    "    select(-year)\n",
    "\n",
    "after_pandemic <- crime_data_clean %>%\n",
    "    filter(period == 'after pandemic') %>%\n",
    "    select(-year)\n",
    "\n",
    "before_pandemic_samples <- before_pandemic %>%\n",
    "    rep_sample_n(size = 500, rep = 500, replace = FALSE) %>%\n",
    "    group_by(replicate) %>%\n",
    "    filter(type == 'Theft of Bicycle') %>%\n",
    "    mutate(bike_theft_number = n()) %>%\n",
    "    mutate(prop = bike_theft_number/500) %>%\n",
    "    filter(!duplicated(replicate))\n",
    "    \n",
    "\n",
    "after_pandemic_samples <- after_pandemic %>%\n",
    "    rep_sample_n(size = 500, rep = 500, replace = FALSE) %>%\n",
    "    group_by(replicate) %>%\n",
    "    filter(type == 'Theft of Bicycle') %>%\n",
    "    mutate(bike_theft_number = n()) %>%\n",
    "    mutate(prop = bike_theft_number/500) %>%\n",
    "    filter(!duplicated(replicate))\n",
    "\n",
    "head(before_pandemic_samples)\n",
    "head(after_pandemic_samples)"
   ]
  },
  {
   "cell_type": "markdown",
   "metadata": {},
   "source": [
    "# Sampling Distributions"
   ]
  },
  {
   "cell_type": "code",
   "execution_count": 316,
   "metadata": {},
   "outputs": [
    {
     "data": {
      "image/png": "[encoded data removed]",
      "text/plain": [
       "plot without title"
      ]
     },
     "metadata": {
      "image/png": {
       "height": 300,
       "width": 780
      }
     },
     "output_type": "display_data"
    }
   ],
   "source": [
    "before_pandemic_sampling_distribution <- before_pandemic_samples %>%\n",
    "    ggplot(aes(x = prop))+\n",
    "    geom_histogram(binwidth = 0.005) +\n",
    "    ggtitle(\"before pandemic\") +\n",
    "    labs(x = \"Proportion of bike theft\") +\n",
    "    theme(text = element_text(size = 15)) +\n",
    "    geom_vline(aes(xintercept = mean(prop)), size=2, color='steelblue1', linetype='dashed') +\n",
    "    geom_vline(aes(xintercept = median(prop)), size=2, color='red', linetype='dashed')\n",
    "\n",
    "\n",
    "after_pandemic_sampling_distribution <- after_pandemic_samples %>%\n",
    "    ggplot(aes(x = prop))+\n",
    "    geom_histogram(binwidth = 0.005) +\n",
    "    ggtitle(\"after pandemic\") +\n",
    "    labs(x = \"Proportion of bike theft\") +\n",
    "    theme(text = element_text(size = 15)) + \n",
    "    geom_vline(aes(xintercept = mean(prop)), size=2, color='steelblue1', linetype='dashed') +\n",
    "    geom_vline(aes(xintercept = median(prop)), size=2, color='red', linetype='dashed')\n",
    "\n",
    "title <- ggdraw() + \n",
    "  draw_label(\n",
    "    \"Sampling distribution of proportion of bike theft happened in Kitsilano\",\n",
    "    fontface = 'bold',\n",
    "    x = 0,\n",
    "    hjust = 0\n",
    "  ) +\n",
    "  theme(\n",
    "    plot.margin = margin(0, 0, 0, 7)\n",
    "  )\n",
    "\n",
    "plot_row <- plot_grid(before_pandemic_sampling_distribution, after_pandemic_sampling_distribution, labels = c('plot3', 'plot4'), label_x = 0, label_y = 0,\n",
    "  hjust = -0.5, vjust = -0.5)\n",
    "\n",
    "plot_grid(\n",
    "  title, plot_row,\n",
    "  ncol = 1,\n",
    "  rel_heights = c(0.1, 1)\n",
    ")"
   ]
  },
  {
   "cell_type": "markdown",
   "metadata": {},
   "source": [
    "Here we have two histograms above showing the sampling distributions of the sample proportions of bike theft in Kitsilano before and after the pandemic. The vertical blue-dotted line shows the median proportion of bike theft while the red one shows the mean proportion of bike theft.\n",
    "\n",
    "Both graphs are roughly unimodal and bell-shaped (normal). This outcome is as expected, since we can apply the Central Limit Theorem (CLT) here. CLT states that the sampling distribution of sample proportion will be similar to a normal distribution, given that sample size n is big enough (typically anything over 30 works). We can also see that the mean and median proportion of bike theft is higher after the pandemic than before the pandemic."
   ]
  },
  {
   "cell_type": "markdown",
   "metadata": {},
   "source": [
    "# Hypothesis Testing\n",
    "Objective: We want to see if COVID-19 implicitly encourages bike theft that happened in Kitsilano.\n",
    "\n",
    "Null Hypothesis (H0): The proportion of bike theft that happened in Kitsilano after the pandemic is as the same as that before the pandemic.\n",
    "\n",
    "Alternative Hypothesis (HA): The proportion of bike theft that happened in Kitsilano after the pandemic is larger than that before the pandemic."
   ]
  },
  {
   "cell_type": "markdown",
   "metadata": {},
   "source": [
    "<b>Method1: Hypothesis Testing by Boostrap<b>"
   ]
  },
  {
   "cell_type": "markdown",
   "metadata": {},
   "source": [
    "Below we used a two-sample t-test for our hypothesis test. This is because the population standard deviation is unknown to us, which is a requirement for the z-test, so we can't use a z-test.\n",
    "\n",
    "First we take a sample of 500 observations for each before the pandemic and after the pandemic. Next, we create a new column called 'Theft of Bicyle' to make sure that the theft type of the observation is bicycle theft. Then, we create the null distribution, calculate relevant test statistics, find the p-value, and finally plot the null distribution."
   ]
  },
  {
   "cell_type": "code",
   "execution_count": 319,
   "metadata": {},
   "outputs": [
    {
     "data": {
      "text/html": [
       "<table>\n",
       "<caption>A grouped_df: 6 × 5</caption>\n",
       "<thead>\n",
       "\t<tr><th scope=col>replicate</th><th scope=col>type</th><th scope=col>neighbourhood</th><th scope=col>period</th><th scope=col>is_bicycle_theft</th></tr>\n",
       "\t<tr><th scope=col>&lt;int&gt;</th><th scope=col>&lt;chr&gt;</th><th scope=col>&lt;chr&gt;</th><th scope=col>&lt;chr&gt;</th><th scope=col>&lt;lgl&gt;</th></tr>\n",
       "</thead>\n",
       "<tbody>\n",
       "\t<tr><td>1</td><td>Theft of Bicycle                 </td><td>Kitsilano</td><td>before pandemic</td><td> TRUE</td></tr>\n",
       "\t<tr><td>1</td><td>Break and Enter Residential/Other</td><td>Kitsilano</td><td>before pandemic</td><td>FALSE</td></tr>\n",
       "\t<tr><td>1</td><td>Theft of Bicycle                 </td><td>Kitsilano</td><td>before pandemic</td><td> TRUE</td></tr>\n",
       "\t<tr><td>1</td><td>Theft of Bicycle                 </td><td>Kitsilano</td><td>before pandemic</td><td> TRUE</td></tr>\n",
       "\t<tr><td>1</td><td>Theft from Vehicle               </td><td>Kitsilano</td><td>before pandemic</td><td>FALSE</td></tr>\n",
       "\t<tr><td>1</td><td>Theft from Vehicle               </td><td>Kitsilano</td><td>before pandemic</td><td>FALSE</td></tr>\n",
       "</tbody>\n",
       "</table>\n"
      ],
      "text/latex": [
       "A grouped\\_df: 6 × 5\n",
       "\\begin{tabular}{lllll}\n",
       " replicate & type & neighbourhood & period & is\\_bicycle\\_theft\\\\\n",
       " <int> & <chr> & <chr> & <chr> & <lgl>\\\\\n",
       "\\hline\n",
       "\t 1 & Theft of Bicycle                  & Kitsilano & before pandemic &  TRUE\\\\\n",
       "\t 1 & Break and Enter Residential/Other & Kitsilano & before pandemic & FALSE\\\\\n",
       "\t 1 & Theft of Bicycle                  & Kitsilano & before pandemic &  TRUE\\\\\n",
       "\t 1 & Theft of Bicycle                  & Kitsilano & before pandemic &  TRUE\\\\\n",
       "\t 1 & Theft from Vehicle                & Kitsilano & before pandemic & FALSE\\\\\n",
       "\t 1 & Theft from Vehicle                & Kitsilano & before pandemic & FALSE\\\\\n",
       "\\end{tabular}\n"
      ],
      "text/markdown": [
       "\n",
       "A grouped_df: 6 × 5\n",
       "\n",
       "| replicate &lt;int&gt; | type &lt;chr&gt; | neighbourhood &lt;chr&gt; | period &lt;chr&gt; | is_bicycle_theft &lt;lgl&gt; |\n",
       "|---|---|---|---|---|\n",
       "| 1 | Theft of Bicycle                  | Kitsilano | before pandemic |  TRUE |\n",
       "| 1 | Break and Enter Residential/Other | Kitsilano | before pandemic | FALSE |\n",
       "| 1 | Theft of Bicycle                  | Kitsilano | before pandemic |  TRUE |\n",
       "| 1 | Theft of Bicycle                  | Kitsilano | before pandemic |  TRUE |\n",
       "| 1 | Theft from Vehicle                | Kitsilano | before pandemic | FALSE |\n",
       "| 1 | Theft from Vehicle                | Kitsilano | before pandemic | FALSE |\n",
       "\n"
      ],
      "text/plain": [
       "  replicate type                              neighbourhood period         \n",
       "1 1         Theft of Bicycle                  Kitsilano     before pandemic\n",
       "2 1         Break and Enter Residential/Other Kitsilano     before pandemic\n",
       "3 1         Theft of Bicycle                  Kitsilano     before pandemic\n",
       "4 1         Theft of Bicycle                  Kitsilano     before pandemic\n",
       "5 1         Theft from Vehicle                Kitsilano     before pandemic\n",
       "6 1         Theft from Vehicle                Kitsilano     before pandemic\n",
       "  is_bicycle_theft\n",
       "1  TRUE           \n",
       "2 FALSE           \n",
       "3  TRUE           \n",
       "4  TRUE           \n",
       "5 FALSE           \n",
       "6 FALSE           "
      ]
     },
     "metadata": {},
     "output_type": "display_data"
    },
    {
     "data": {
      "text/html": [
       "0.026"
      ],
      "text/latex": [
       "0.026"
      ],
      "text/markdown": [
       "0.026"
      ],
      "text/plain": [
       "[1] 0.026"
      ]
     },
     "metadata": {},
     "output_type": "display_data"
    },
    {
     "data": {
      "text/html": [
       "<table>\n",
       "<caption>A tibble: 6 × 2</caption>\n",
       "<thead>\n",
       "\t<tr><th scope=col>replicate</th><th scope=col>stat</th></tr>\n",
       "\t<tr><th scope=col>&lt;int&gt;</th><th scope=col>&lt;dbl&gt;</th></tr>\n",
       "</thead>\n",
       "<tbody>\n",
       "\t<tr><td>1</td><td> 0.018</td></tr>\n",
       "\t<tr><td>2</td><td>-0.002</td></tr>\n",
       "\t<tr><td>3</td><td>-0.014</td></tr>\n",
       "\t<tr><td>4</td><td> 0.002</td></tr>\n",
       "\t<tr><td>5</td><td>-0.010</td></tr>\n",
       "\t<tr><td>6</td><td> 0.018</td></tr>\n",
       "</tbody>\n",
       "</table>\n"
      ],
      "text/latex": [
       "A tibble: 6 × 2\n",
       "\\begin{tabular}{ll}\n",
       " replicate & stat\\\\\n",
       " <int> & <dbl>\\\\\n",
       "\\hline\n",
       "\t 1 &  0.018\\\\\n",
       "\t 2 & -0.002\\\\\n",
       "\t 3 & -0.014\\\\\n",
       "\t 4 &  0.002\\\\\n",
       "\t 5 & -0.010\\\\\n",
       "\t 6 &  0.018\\\\\n",
       "\\end{tabular}\n"
      ],
      "text/markdown": [
       "\n",
       "A tibble: 6 × 2\n",
       "\n",
       "| replicate &lt;int&gt; | stat &lt;dbl&gt; |\n",
       "|---|---|\n",
       "| 1 |  0.018 |\n",
       "| 2 | -0.002 |\n",
       "| 3 | -0.014 |\n",
       "| 4 |  0.002 |\n",
       "| 5 | -0.010 |\n",
       "| 6 |  0.018 |\n",
       "\n"
      ],
      "text/plain": [
       "  replicate stat  \n",
       "1 1          0.018\n",
       "2 2         -0.002\n",
       "3 3         -0.014\n",
       "4 4          0.002\n",
       "5 5         -0.010\n",
       "6 6          0.018"
      ]
     },
     "metadata": {},
     "output_type": "display_data"
    },
    {
     "data": {
      "text/html": [
       "<table>\n",
       "<caption>A tibble: 1 × 1</caption>\n",
       "<thead>\n",
       "\t<tr><th scope=col>p_value</th></tr>\n",
       "\t<tr><th scope=col>&lt;dbl&gt;</th></tr>\n",
       "</thead>\n",
       "<tbody>\n",
       "\t<tr><td>0.115</td></tr>\n",
       "</tbody>\n",
       "</table>\n"
      ],
      "text/latex": [
       "A tibble: 1 × 1\n",
       "\\begin{tabular}{l}\n",
       " p\\_value\\\\\n",
       " <dbl>\\\\\n",
       "\\hline\n",
       "\t 0.115\\\\\n",
       "\\end{tabular}\n"
      ],
      "text/markdown": [
       "\n",
       "A tibble: 1 × 1\n",
       "\n",
       "| p_value &lt;dbl&gt; |\n",
       "|---|\n",
       "| 0.115 |\n",
       "\n"
      ],
      "text/plain": [
       "  p_value\n",
       "1 0.115  "
      ]
     },
     "metadata": {},
     "output_type": "display_data"
    },
    {
     "data": {
      "image/png": "[encoded data removed]",
      "text/plain": [
       "plot without title"
      ]
     },
     "metadata": {
      "image/png": {
       "height": 300,
       "width": 780
      }
     },
     "output_type": "display_data"
    }
   ],
   "source": [
    "set.seed(2001)\n",
    "before_pandemic_sample <- before_pandemic %>%  \n",
    "    rep_sample_n(size = 500)\n",
    "    \n",
    "\n",
    "after_pandemic_sample <- after_pandemic %>%\n",
    "    rep_sample_n(size = 500)\n",
    "\n",
    "samples <- rbind(before_pandemic_sample, after_pandemic_sample) %>%\n",
    "    mutate(is_bicycle_theft = (type == 'Theft of Bicycle'))\n",
    "\n",
    "head(samples)\n",
    "\n",
    "null_dist_bt <- \n",
    "    samples %>%\n",
    "    specify(formula = is_bicycle_theft ~ period, success= 'TRUE') %>%\n",
    "    hypothesize(null = 'independence') %>%\n",
    "    generate(reps = 1000, type = 'permute') %>%\n",
    "    calculate(stat = 'diff in props', order = c('after pandemic', 'before pandemic'))\n",
    "\n",
    "obs_prop_diff <-\n",
    "    samples %>%\n",
    "    specify(formula = is_bicycle_theft ~ period, success= 'TRUE') %>%\n",
    "    calculate(stat = 'diff in props', order = c('after pandemic', 'before pandemic')) %>%\n",
    "    pull()\n",
    "\n",
    "visual_plot <- visualize(null_dist_bt) +\n",
    " shade_p_value(obs_stat = obs_prop_diff, direction='right')\n",
    "\n",
    "null_distribution_plot <- plot_grid(visual_plot, labels = c('plot5'), label_x = 0, label_y = 0,\n",
    "  hjust = -0.5, vjust = -0.5)\n",
    "\n",
    "p_value_bt <- null_dist_bt %>% get_p_value(obs_stat = obs_prop_diff, direction='right')\n",
    "\n",
    "obs_prop_diff\n",
    "head(null_dist_bt)\n",
    "p_value_bt\n",
    "null_distribution_plot"
   ]
  },
  {
   "cell_type": "markdown",
   "metadata": {},
   "source": [
    "<b>P-Value<b>"
   ]
  },
  {
   "cell_type": "markdown",
   "metadata": {},
   "source": [
    "Our p-value tells us the probability that the proportion of bike theft after the pandemic is greater than the proportion of bike theft before the pandemic occured by random chance assuming the null distribution is true. Given that our p-value is  0.115, there is a 11.5% chance that the proportion of bike theft after the pandemic is greater than that before happened by chance. We will further explore this later in the \"Discussion\" section of this report."
   ]
  },
  {
   "cell_type": "markdown",
   "metadata": {},
   "source": [
    "<b>plot5: Simulation-Based Null Distribution<b>"
   ]
  },
  {
   "cell_type": "markdown",
   "metadata": {},
   "source": [
    "We generated our null distribution using the infer package. The vertical red line is equal to the observed difference in proportions of bike theft before and after the pandemic, which is 0.026. We shaded the area to the right of that line because we are testing whether or not the proportion of bike theft after the pandemic is greater than the proportion of bike theft before the pandemic."
   ]
  },
  {
   "cell_type": "markdown",
   "metadata": {},
   "source": [
    "<b>Method2: Hypothesis Testing by CLT<b>"
   ]
  },
  {
   "cell_type": "code",
   "execution_count": 268,
   "metadata": {},
   "outputs": [
    {
     "data": {
      "text/html": [
       "<table>\n",
       "<caption>A tibble: 1 × 9</caption>\n",
       "<thead>\n",
       "\t<tr><th scope=col>estimate1</th><th scope=col>estimate2</th><th scope=col>statistic</th><th scope=col>p.value</th><th scope=col>parameter</th><th scope=col>conf.low</th><th scope=col>conf.high</th><th scope=col>method</th><th scope=col>alternative</th></tr>\n",
       "\t<tr><th scope=col>&lt;dbl&gt;</th><th scope=col>&lt;dbl&gt;</th><th scope=col>&lt;dbl&gt;</th><th scope=col>&lt;dbl&gt;</th><th scope=col>&lt;dbl&gt;</th><th scope=col>&lt;dbl&gt;</th><th scope=col>&lt;dbl&gt;</th><th scope=col>&lt;chr&gt;</th><th scope=col>&lt;chr&gt;</th></tr>\n",
       "</thead>\n",
       "<tbody>\n",
       "\t<tr><td>0.122</td><td>0.096</td><td>1.740133</td><td>0.09356097</td><td>1</td><td>-0.006391507</td><td>1</td><td>2-sample test for equality of proportions without continuity correction</td><td>greater</td></tr>\n",
       "</tbody>\n",
       "</table>\n"
      ],
      "text/latex": [
       "A tibble: 1 × 9\n",
       "\\begin{tabular}{lllllllll}\n",
       " estimate1 & estimate2 & statistic & p.value & parameter & conf.low & conf.high & method & alternative\\\\\n",
       " <dbl> & <dbl> & <dbl> & <dbl> & <dbl> & <dbl> & <dbl> & <chr> & <chr>\\\\\n",
       "\\hline\n",
       "\t 0.122 & 0.096 & 1.740133 & 0.09356097 & 1 & -0.006391507 & 1 & 2-sample test for equality of proportions without continuity correction & greater\\\\\n",
       "\\end{tabular}\n"
      ],
      "text/markdown": [
       "\n",
       "A tibble: 1 × 9\n",
       "\n",
       "| estimate1 &lt;dbl&gt; | estimate2 &lt;dbl&gt; | statistic &lt;dbl&gt; | p.value &lt;dbl&gt; | parameter &lt;dbl&gt; | conf.low &lt;dbl&gt; | conf.high &lt;dbl&gt; | method &lt;chr&gt; | alternative &lt;chr&gt; |\n",
       "|---|---|---|---|---|---|---|---|---|\n",
       "| 0.122 | 0.096 | 1.740133 | 0.09356097 | 1 | -0.006391507 | 1 | 2-sample test for equality of proportions without continuity correction | greater |\n",
       "\n"
      ],
      "text/plain": [
       "  estimate1 estimate2 statistic p.value    parameter conf.low     conf.high\n",
       "1 0.122     0.096     1.740133  0.09356097 1         -0.006391507 1        \n",
       "  method                                                                 \n",
       "1 2-sample test for equality of proportions without continuity correction\n",
       "  alternative\n",
       "1 greater    "
      ]
     },
     "metadata": {},
     "output_type": "display_data"
    }
   ],
   "source": [
    "prop_test <- \n",
    "prop.test(\n",
    "            x = c(samples %>% filter(is_bicycle_theft == 'TRUE' & period == 'after pandemic') %>% nrow(), \n",
    "\t\t\tsamples %>% filter(is_bicycle_theft == 'TRUE' & period == 'before pandemic') %>% nrow()), \n",
    "            n = c(500, 500), \n",
    "            alternative = 'greater', \n",
    "            correct = FALSE) %>% \n",
    "\ttidy()\n",
    "\n",
    "prop_test"
   ]
  },
  {
   "cell_type": "markdown",
   "metadata": {},
   "source": [
    "We used the prop.test() function above. This returns detailed information about our hypothesis test. We note that it outputs a lower p-value than we calculated earlier, 0.093, compared to 0.115. Despite this difference, both will lead us to not reject the null hypothesis, which is further discussed in the \"Discussion\" section."
   ]
  },
  {
   "cell_type": "markdown",
   "metadata": {},
   "source": [
    "# Confidence Interval"
   ]
  },
  {
   "cell_type": "markdown",
   "metadata": {},
   "source": [
    "Here we calculate a 95% confidence interval (CI) of the difference in proportions. Based on the values we got below, if we were to take the difference in proportions 100 times, 95 of those times the value of the difference in proportions would lie between -0.0125 (lower CI) and 0.064 (upper CI)."
   ]
  },
  {
   "cell_type": "code",
   "execution_count": 306,
   "metadata": {},
   "outputs": [
    {
     "data": {
      "text/html": [
       "-0.0125968616686018"
      ],
      "text/latex": [
       "-0.0125968616686018"
      ],
      "text/markdown": [
       "-0.0125968616686018"
      ],
      "text/plain": [
       "[1] -0.01259686"
      ]
     },
     "metadata": {},
     "output_type": "display_data"
    },
    {
     "data": {
      "text/html": [
       "0.0645968616686018"
      ],
      "text/latex": [
       "0.0645968616686018"
      ],
      "text/markdown": [
       "0.0645968616686018"
      ],
      "text/plain": [
       "[1] 0.06459686"
      ]
     },
     "metadata": {},
     "output_type": "display_data"
    }
   ],
   "source": [
    "before_count <- before_pandemic_sample %>%\n",
    "    filter(type == 'Theft of Bicycle') %>%\n",
    "    count()\n",
    "\n",
    "after_count <- after_pandemic_sample %>%\n",
    "    filter(type == 'Theft of Bicycle') %>%\n",
    "    count()\n",
    "\n",
    "before_prop <- before_pandemic_count$n[1]/500\n",
    "after_prop <- after_pandemic_count$n[1]/500\n",
    "before_sd <- sqrt(before_prop*(1-before_prop)/500)\n",
    "after_sd<- sqrt(after_prop*(1-after_prop)/500)\n",
    "\n",
    "sd_diff <- sqrt(before_sd^2 + after_sd^2) # standard error for difference\n",
    "\n",
    "prop_diff <- after_prop - before_prop # difference between the sample proportions\n",
    "\n",
    "\n",
    "conf_low_95 <- prop_diff+qnorm(0.025)*sd_diff\n",
    "conf_high_95 <- prop_diff+qnorm(0.975)*sd_diff\n",
    "\n",
    "conf_low_95\n",
    "conf_high_95"
   ]
  },
  {
   "cell_type": "markdown",
   "metadata": {},
   "source": [
    "# Methods & Results\n",
    "\n",
    "## In what ways is this report trustworthy?\n",
    "Our report is trustworthy because...\n",
    "* The dataset is from an authority site. The data we used in our analysis is from the Official Website of the Vancouver Police Department and the City of Vancouver. Given this reputable source, we believe the dataset to be unbiased and truthful.\n",
    "\n",
    "* The sample size is large enough. With a sample size of 500, we are able to apply the central limit theorem (this is mentioned earlier with our sampling distribution histograms).\n",
    "\n",
    "* The sample is representative and random. Our samples were taken without replacement and with a large sample size, allowing our samples to be taken at random and are therefore representative.\n",
    "\n",
    "## What do you expect to find? \n",
    "\n",
    "We expect to find that COVID-19 pandemic happened in 2019 leads to higher proportion of bike theft in Kitsilano. \n",
    "\n",
    "## Do you think one of bootstrapping or asymptotics is more appropriate than the other? Why or why not? Explain why you think both methods gave you similar/different results, and whether you think one is more trustworthy than the other.\n",
    "We think asymptotics is a better approach since we conducted a two-sample t-test for the difference in proportions. Each method gave us different p-values. From the method 1 (hypothesis testing by bootstrap), we calculated a p-value of around 0.093. With method 2 (hypothesis testing by CLT), we calculated a p-value of 0.115. This may be because of the variability in the bootstrap method, as we could get different bootstrap samples each time."
   ]
  },
  {
   "cell_type": "markdown",
   "metadata": {},
   "source": [
    "# Discussion\n",
    "\n",
    "## Summarize what you found, and the implications/impact of your findings.\n",
    "\n",
    "Our goal was to determine if the proportion of bike theft in Kitsilano from before the COVID-19 pandemic increased after the pandemic or not. Thus, our null hypothesis is that the proportions are equal and our alternative hypothesis is that the proportion of bike theft in Kitsilano after the pandemic is greater than that of before. In the end, we resulted with not rejecting our null hypothesis. This decision is supported by our calculated p-value, which is 0.115, with a significance level of 5% (0.05 < 0.115 = we do not reject the null hypothesis).\n",
    "\n",
    "Based on the articles mentioned in the introduction (CBC News and CTV News), we suspected that bike theft would rise during the pandemic due to higher cases of general theft in and an increase in bike sales as eager Vancouverites seek to stay fit. Hence, our analyses support our initial expectations.\n",
    "\n",
    "Knowing that the proportion of bike theft crimes in Vancouver have risen, this information may be of use to the Vancouver Police Department (VPD), who could use this to encourage more Vancouverites to purchase better quality bike locks, make sure more police officers know how to react in a bike theft situation, or update their protocals in preparation for a higher volume of bike thefts in the Kitsilano neighbourhood. The City of Vancouver could also launch an initiative to upgrade public bike storage options or place more secure bike racks around the Kitsilano area.\n",
    "\n",
    "If we were to continue our analysis, we could include the day, minute, and hour variables to identify peak times of bike theft. Our results from this expansion could help inform the VPD on how to allocate their resources the most effectively (i.e., have more staff scheduled and staff experienced with bike theft at peak hours) to prevent the most crimes. This idea could also be applied to crimes of any time in any neighbourhood.\n",
    "\n",
    "Given these results, we have the following questions for future discussion/research:\n",
    "* How does the proportion of bike theft before and after COVID vary between neighbourhoods We conducted our analysis exclusively on bike theft in the Kitsilano neighbourhood, how would it compare to other neighbourhoods? This could lead to identifying which neighbourhoods more frequently use biking as a mode of transportation, or bring up other questions, for example: Is bike theft higher in wealthier communities?\n",
    "\n",
    "* If we wait a few years until the coronavirus is completely gone, would the proportion of bike theft in the Kitsilano neighbourhood return to how it was prior to the pandemic?\n",
    "\n",
    "* Are bikes with certain characteristics more likely to be stolen than others? Characteristics could include accessories (bells, baskets, fenders, paniers, etc.), colour, size, or brand.\n",
    "\n",
    "* We are also interested in using the remaining variables in our dataset (hundred_block, x, y [x and y are coordinates]) to determine bike theft hot spots in the Kitsilano neighbourhood.\n",
    "\n",
    "* How does Vancouver the proportion of bike theft before/after the pandemic compare to major cities in other countries? "
   ]
  },
  {
   "cell_type": "markdown",
   "metadata": {},
   "source": [
    "**References**\n",
    "\n",
    "(1)The Canadian Press. (2020, September 17). Vancouver police record increase in violent crime, decrease in property crime in the first half of 2020. CBCnews. https://www.cbc.ca/news/canada/british-columbia/vancouver-police-increase-violent-crime-decrease-property-crime-1.5728664.\n",
    "\n",
    "(2)Uguen-Csenge, E. (2021, June 27). Here's what happened to crime rates in Vancouver during the pandemic | CBC News. CBCnews. https://www.cbc.ca/news/canada/british-columbia/here-s-what-happened-to-crime-rates-in-vancouver-during-the-pandemic-1.6078015.\n",
    "\n",
    "(3)Ballard, J. (2021, February 4). Vancouver still has the most bike thefts per capita among major Canadian cities, despite efforts. CBC News. https://www.cbc.ca/news/canada/british-columbia/vancouver-still-has-the-most-bike-thefts-per-capita-among-major-canadian-cities-despite-efforts-1.5898575\n",
    "\n",
    "(4)CTVNewsVancouver.ca Staff. (2021, July 23). $45,000 in stolen bikes recovered in Vancouver; police hoping to return them to owners. CTV News. https://bc.ctvnews.ca/45-000-in-stolen-bikes-recovered-in-vancouver-police-hoping-to-return-them-to-owners-1.5520817\n",
    "\n",
    "(5)Uguen-Csenge, E. (2020, May 18). Bike sales spike as Vancouverites look for fitness and travel alternatives during COVID-19. CBC News. https://www.cbc.ca/news/canada/british-columbia/bike-sales-spike-vancouver-covid-travel-1.5572344"
   ]
  },
  {
   "cell_type": "code",
   "execution_count": null,
   "metadata": {},
   "outputs": [],
   "source": []
  }
 ],
 "metadata": {
  "celltoolbar": "Create Assignment",
  "docker": {
   "latest_image_tag": "v0.4.0"
  },
  "jupytext": {
   "formats": "ipynb,Rmd"
  },
  "kernelspec": {
   "display_name": "R",
   "language": "R",
   "name": "ir"
  },
  "language_info": {
   "codemirror_mode": "r",
   "file_extension": ".r",
   "mimetype": "text/x-r-source",
   "name": "R",
   "pygments_lexer": "r",
   "version": "3.6.1"
  }
 },
 "nbformat": 4,
 "nbformat_minor": 4
}
